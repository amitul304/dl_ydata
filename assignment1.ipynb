{
  "nbformat": 4,
  "nbformat_minor": 0,
  "metadata": {
    "colab": {
      "name": "assignment1.ipynb",
      "version": "0.3.2",
      "provenance": [],
      "include_colab_link": true
    },
    "kernelspec": {
      "display_name": "Python 3",
      "language": "python",
      "name": "python3"
    }
  },
  "cells": [
    {
      "cell_type": "markdown",
      "metadata": {
        "id": "view-in-github",
        "colab_type": "text"
      },
      "source": [
        "<a href=\"https://colab.research.google.com/github/amitul304/dl_ydata/blob/master/assignment1.ipynb\" target=\"_parent\"><img src=\"https://colab.research.google.com/assets/colab-badge.svg\" alt=\"Open In Colab\"/></a>"
      ]
    },
    {
      "metadata": {
        "id": "zYpokaxJpL7Z",
        "colab_type": "text"
      },
      "cell_type": "markdown",
      "source": [
        "# Deep Learning Theoretical Aspects - Assignment 1"
      ]
    },
    {
      "metadata": {
        "id": "SpYmhrOGpL7a",
        "colab_type": "code",
        "colab": {}
      },
      "cell_type": "code",
      "source": [
        "import numpy as np\n",
        "import matplotlib.pyplot as plt\n",
        "import scipy as sp\n",
        "import sklearn\n",
        "%matplotlib inline"
      ],
      "execution_count": 0,
      "outputs": []
    },
    {
      "metadata": {
        "id": "zr8eWPJ0pL7d",
        "colab_type": "text"
      },
      "cell_type": "markdown",
      "source": [
        "Much of the power of neural networks comes from the nonlinearity that is inherited in activation functions.  \n",
        "Show that a network of N layers that uses a linear activation function can be reduced into a network with just an input and output layers.\n"
      ]
    },
    {
      "metadata": {
        "id": "N8mSD0C-paGM",
        "colab_type": "text"
      },
      "cell_type": "markdown",
      "source": [
        "No matter how many layers we have, if all are linear in nature, the final activation function of last layer is nothing but just a linear function of the input of first layer"
      ]
    },
    {
      "metadata": {
        "id": "cYT0KGxZpL7e",
        "colab_type": "code",
        "colab": {}
      },
      "cell_type": "code",
      "source": [
        "# Write your answer here"
      ],
      "execution_count": 0,
      "outputs": []
    },
    {
      "metadata": {
        "id": "r-Z02yC9pL7i",
        "colab_type": "text"
      },
      "cell_type": "markdown",
      "source": [
        "### Derivatives of Activation Functions\n",
        "Compute the derivative of these activation functions:\n",
        "\n",
        "1 Sigmoid\n",
        "<img src=\"https://cdn-images-1.medium.com/max/1200/1*Vo7UFksa_8Ne5HcfEzHNWQ.png\" width=\"150\">"
      ]
    },
    {
      "metadata": {
        "id": "90mI6c_Xqr4S",
        "colab_type": "text"
      },
      "cell_type": "markdown",
      "source": [
        "$f(t) = (1+e^{-t})^{-1} $\n",
        "\n",
        "$\\frac{\\mathrm d}{\\mathrm d t}(f(t)) = -1(1+e^{-t})^{-2}(-e^{-t}) = \\frac{e^{-t}}{(1+e^{-t})^{2}}$"
      ]
    },
    {
      "metadata": {
        "id": "mU1ZHBNnpL7i",
        "colab_type": "code",
        "colab": {}
      },
      "cell_type": "code",
      "source": [
        "# Write your answer here"
      ],
      "execution_count": 0,
      "outputs": []
    },
    {
      "metadata": {
        "id": "dC70K8EFpL7m",
        "colab_type": "text"
      },
      "cell_type": "markdown",
      "source": [
        "2 Relu \n",
        "![image.png](attachment:image.png)"
      ]
    },
    {
      "metadata": {
        "id": "S-DIFo8es9Q5",
        "colab_type": "text"
      },
      "cell_type": "markdown",
      "source": [
        "$R(z) = max(0,z) = \n",
        "  \\begin{cases}\n",
        "    0       & z<=0\\\\\n",
        "    z  & z>0\n",
        "  \\end{cases}\n",
        "$\n",
        "\n",
        "$\\frac{\\mathrm d}{\\mathrm d t}(R(z)) = \\begin{cases}\n",
        "    0       & z<0\\\\\n",
        "    1  & z>0\n",
        "  \\end{cases}$\n",
        "  \n",
        "  notice that the derivative isnt defined in z=0 (sharp point and the limits are not equal from the left and right)"
      ]
    },
    {
      "metadata": {
        "id": "NFpbreefpL7n",
        "colab_type": "code",
        "colab": {}
      },
      "cell_type": "code",
      "source": [
        "# Write your answer here"
      ],
      "execution_count": 0,
      "outputs": []
    },
    {
      "metadata": {
        "id": "UAHDaBZ3pL7q",
        "colab_type": "text"
      },
      "cell_type": "markdown",
      "source": [
        "3 Softmax\n",
        "<img src=\"https://wikimedia.org/api/rest_v1/media/math/render/svg/e348290cf48ddbb6e9a6ef4e39363568b67c09d3\" width=\"250\">"
      ]
    },
    {
      "metadata": {
        "id": "uGo8_UhupL7r",
        "colab_type": "code",
        "colab": {}
      },
      "cell_type": "code",
      "source": [
        "# Write your answer here"
      ],
      "execution_count": 0,
      "outputs": []
    },
    {
      "metadata": {
        "id": "LU1Z-xXLpL7u",
        "colab_type": "text"
      },
      "cell_type": "markdown",
      "source": [
        "### Back Propagation\n",
        "Use the delta rule and backprop to compute the derivatives for these computations:"
      ]
    },
    {
      "metadata": {
        "id": "298fmmwspL7u",
        "colab_type": "text"
      },
      "cell_type": "markdown",
      "source": [
        "```\n",
        "z = x1 + 5*x2 - 3*x3^2\n",
        "```"
      ]
    },
    {
      "metadata": {
        "id": "VnwypCsMpL7w",
        "colab_type": "code",
        "colab": {}
      },
      "cell_type": "code",
      "source": [
        "# Write your answer here"
      ],
      "execution_count": 0,
      "outputs": []
    },
    {
      "metadata": {
        "id": "GeKONPqWpL7y",
        "colab_type": "text"
      },
      "cell_type": "markdown",
      "source": [
        "```\n",
        "z = x1*(x2-4) + exp(x3^2) / 5*x4^2\n",
        "```"
      ]
    },
    {
      "metadata": {
        "id": "-SPBFw9rpL7z",
        "colab_type": "code",
        "colab": {}
      },
      "cell_type": "code",
      "source": [
        "# Write your answer here"
      ],
      "execution_count": 0,
      "outputs": []
    },
    {
      "metadata": {
        "id": "ZrKCUeUfpL70",
        "colab_type": "text"
      },
      "cell_type": "markdown",
      "source": [
        "```\n",
        "z = 1/x3 + exp( (x1+5*(x2+3)) ^2 )\n",
        "```"
      ]
    },
    {
      "metadata": {
        "id": "rYY_AVNdpL72",
        "colab_type": "code",
        "colab": {}
      },
      "cell_type": "code",
      "source": [
        "# Write your answer here"
      ],
      "execution_count": 0,
      "outputs": []
    },
    {
      "metadata": {
        "id": "uLPeI9cCpL75",
        "colab_type": "text"
      },
      "cell_type": "markdown",
      "source": [
        "### Sample convolutions\n",
        "Consider the following convolution filters:\n",
        "```python\n",
        "k1 = [ [0 0 0], [0 1 0], [0 0 0] ]\n",
        "k2 = [ [0 0 0], [0 0 1], [0 0 0] ]\n",
        "k3 = [ [-1-1 -1], [-1 8 -1], [-1 -1 -1] ]\n",
        "k4 = [ [1 1 1], [1 1 1], [1 1 1] ] / 9\n",
        "```\n",
        "\n",
        "Can you guess what each of them computes?"
      ]
    },
    {
      "metadata": {
        "id": "yAD_nkNFpL75",
        "colab_type": "text"
      },
      "cell_type": "markdown",
      "source": [
        "#### Apply to arrays\n",
        "Apply the convolutions above to the following array:\n"
      ]
    },
    {
      "metadata": {
        "id": "UkNO9iOWpL76",
        "colab_type": "code",
        "colab": {}
      },
      "cell_type": "code",
      "source": [
        "x = np.array([[-1, -3, -4,  0, -1],\n",
        "       [ 2, -2, -4,  0, -2],\n",
        "       [-3, -2,  2,  2,  3],\n",
        "       [ 0, -3, -4, -4, -2],\n",
        "       [-4, -2,  2,  0,  1]])"
      ],
      "execution_count": 0,
      "outputs": []
    },
    {
      "metadata": {
        "id": "CkH2g9eFpL7-",
        "colab_type": "code",
        "colab": {}
      },
      "cell_type": "code",
      "source": [
        "# Write your answer here"
      ],
      "execution_count": 0,
      "outputs": []
    },
    {
      "metadata": {
        "id": "xkbb6qbrpL8A",
        "colab_type": "text"
      },
      "cell_type": "markdown",
      "source": [
        "What would be the output dimensions in these cases?\n",
        "1. No padding, stride of 1\n",
        "1. No padding, stride of 2\n",
        "1. Zero padding, stride of 1\n",
        "1. Zero padding, stride of 2"
      ]
    },
    {
      "metadata": {
        "id": "VOrMZ1KOpL8B",
        "colab_type": "code",
        "colab": {}
      },
      "cell_type": "code",
      "source": [
        "# Write your answer here"
      ],
      "execution_count": 0,
      "outputs": []
    },
    {
      "metadata": {
        "id": "cRsu9ouNpL8G",
        "colab_type": "text"
      },
      "cell_type": "markdown",
      "source": [
        "Consider convolutions with kernels of size 3x3, 5x5, 7x7 etc.\n",
        "\n",
        "Come up with an equation for the dimension of the output image after a convolution layer. Your equation should also take into account padding and the stride."
      ]
    },
    {
      "metadata": {
        "id": "HpsIPv2UpL8H",
        "colab_type": "code",
        "colab": {}
      },
      "cell_type": "code",
      "source": [
        "# Write your answer here"
      ],
      "execution_count": 0,
      "outputs": []
    },
    {
      "metadata": {
        "id": "89RD780ipL8I",
        "colab_type": "text"
      },
      "cell_type": "markdown",
      "source": [
        "#### Apply to images\n",
        "Apply the convolution filters above on the image. Plot the results:"
      ]
    },
    {
      "metadata": {
        "id": "Q-UNFCUapL8J",
        "colab_type": "code",
        "colab": {}
      },
      "cell_type": "code",
      "source": [
        "import matplotlib.pyplot as plt\n",
        "import matplotlib.image as mpimg\n",
        "im = mpimg.imread('lena.jpg')\n",
        "plt.imshow(im)"
      ],
      "execution_count": 0,
      "outputs": []
    },
    {
      "metadata": {
        "id": "Pgdk6Gk4pL8M",
        "colab_type": "code",
        "colab": {}
      },
      "cell_type": "code",
      "source": [
        "# Write your answer here"
      ],
      "execution_count": 0,
      "outputs": []
    },
    {
      "metadata": {
        "id": "qm9C8XPwpL8P",
        "colab_type": "text"
      },
      "cell_type": "markdown",
      "source": [
        "### Network dimensions\n",
        "Write below the dimensions and number of parameters in each layer of this network for the MNIST data:\n",
        "\n",
        "- Convolutional Layer #1: Applies 32 5x5 filters (extracting 5x5-pixel subregions), with ReLU activation function\n",
        "- Pooling Layer #1: Performs max pooling with a 2x2 filter and stride of 2 (which specifies that pooled regions do not overlap)\n",
        "- Convolutional Layer #2: Applies 64 5x5 filters, with ReLU activation function\n",
        "- Pooling Layer #2: Again, performs max pooling with a 2x2 filter and stride of 2\n",
        "- Dense Layer #1: 1,024 neurons, with dropout regularization rate of 0.4 (probability of 0.4 that any given element will be dropped during training)\n",
        "- Dense Layer #2 (Logits Layer): 10 neurons, one for each digit target class (0–9).\n"
      ]
    },
    {
      "metadata": {
        "id": "_TyM7PKTpL8P",
        "colab_type": "code",
        "colab": {}
      },
      "cell_type": "code",
      "source": [
        "# Write your answer here"
      ],
      "execution_count": 0,
      "outputs": []
    },
    {
      "metadata": {
        "id": "4AzHpbpkpL8R",
        "colab_type": "text"
      },
      "cell_type": "markdown",
      "source": [
        "### Learning in biological neurons\n",
        "Try to come up with a learning algorithm for a neural network that replaces back propagation, and mimicks the operation of biological neurons."
      ]
    },
    {
      "metadata": {
        "id": "Eu6xqvBapL8S",
        "colab_type": "code",
        "colab": {}
      },
      "cell_type": "code",
      "source": [
        "# Write your answer here"
      ],
      "execution_count": 0,
      "outputs": []
    },
    {
      "metadata": {
        "id": "aSyvItT-pL8U",
        "colab_type": "text"
      },
      "cell_type": "markdown",
      "source": [
        "### Puppy or bagel?\n",
        "We've seen in class the (hopefully) funny examples of challenging images (Chihuahua or muffin, puppy or bagel etc.). \n",
        "\n",
        "Let's say you were asked by someone to find more examples like that. You are able to call the 3 neural networks that won the recent ImageNet challenges, and get their predictions (the entire vector of probabilities for the 1000 classes).  \n",
        "\n",
        "Describe methods that might assist you in finding more examples."
      ]
    },
    {
      "metadata": {
        "id": "IdG1MBNmpL8U",
        "colab_type": "code",
        "colab": {}
      },
      "cell_type": "code",
      "source": [
        "# Write your answer here"
      ],
      "execution_count": 0,
      "outputs": []
    },
    {
      "metadata": {
        "id": "uKo27qj7pL8X",
        "colab_type": "text"
      },
      "cell_type": "markdown",
      "source": [
        "#### Gradient Checking\n",
        "When computing the gradient yourself, it's recommended to manually check the gradient to make sure you haven't made an error.  \n",
        "We'll use the following equation for this, which produces more robust results than the standard definition of a derivative:\n",
        "![image.png](attachment:image.png)"
      ]
    },
    {
      "metadata": {
        "id": "0PmHiMknpL8Z",
        "colab_type": "text"
      },
      "cell_type": "markdown",
      "source": [
        "We'll numerically approximate it using:\n",
        "![image.png](attachment:image.png)"
      ]
    },
    {
      "metadata": {
        "id": "zBBhbosIpL8Z",
        "colab_type": "text"
      },
      "cell_type": "markdown",
      "source": [
        "Write a function that evaluates the gradient locally and use it to numerically compute the gradient along several randomly chosen dimensions. Compare your results with your analytically computed gradient. The numbers should match almost exactly along all dimensions."
      ]
    },
    {
      "metadata": {
        "id": "fWbB9yqbpL8b",
        "colab_type": "code",
        "colab": {}
      },
      "cell_type": "code",
      "source": [
        "# Write your answer here"
      ],
      "execution_count": 0,
      "outputs": []
    }
  ]
}